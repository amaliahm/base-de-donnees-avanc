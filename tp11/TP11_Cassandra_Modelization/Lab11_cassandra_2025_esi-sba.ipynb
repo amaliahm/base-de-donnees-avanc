{
 "cells": [
  {
   "cell_type": "markdown",
   "metadata": {},
   "source": [
    "# Exercice: Modélisation orientée requête (Cassandra)\n",
    "\n",
    "<table><tr>\n",
    "    <td><img src=\"image/esi-sba.png\" width=\"100\" height=\"100\"></td>\n",
    "    <td><img src=\"image/cassandra.png\" width=\"100\" height=\"100\"></td>\n",
    "    </tr></table>\n",
    "\n"
   ]
  },
  {
   "cell_type": "markdown",
   "metadata": {},
   "source": [
    "### Dans ce notebook, nous allons travailler sur la modélisation orientée requête sous la BDD No-SQL Cassandra, en particulier nous traitons les points suivants :\n",
    "\n",
    "* Dénormaliser une BDD relationnelle en partant du principe 1 table per query \n",
    "* Définir la partie Primary Key pour chaque requête\n",
    "* Optimiser vos modèles en choisissant la bonne Partition Key & Clustering Column\n",
    "* Valider vos modèles \n",
    "* Tester quelques requêtes particulières\n"
   ]
  },
  {
   "cell_type": "markdown",
   "metadata": {},
   "source": [
    "#### installer cassandra-driver afin de se connecter au cluster cassandra\n",
    "! pip install cassandra-driver\n",
    "#### More documentation can be found here:  https://datastax.github.io/python-driver/"
   ]
  },
  {
   "cell_type": "markdown",
   "metadata": {},
   "source": [
    "#### Import Apache Cassandra python package"
   ]
  },
  {
   "cell_type": "code",
   "execution_count": 1,
   "metadata": {},
   "outputs": [],
   "source": [
    "import cassandra"
   ]
  },
  {
   "cell_type": "markdown",
   "metadata": {},
   "source": [
    "### créer une connection au cluster cassandra"
   ]
  },
  {
   "cell_type": "code",
   "execution_count": 2,
   "metadata": {},
   "outputs": [],
   "source": [
    "from cassandra.cluster import Cluster\n",
    "\n",
    "try: \n",
    "    cluster = Cluster(['127.0.0.1']) # si cassandra est installé localement avec le port par défaut 9042\n",
    "    session = cluster.connect()\n",
    "except Exception as e:\n",
    "    print(e)"
   ]
  },
  {
   "cell_type": "markdown",
   "metadata": {},
   "source": [
    "### créer maintenant un keyspace nommé \"cart_esi\""
   ]
  },
  {
   "cell_type": "code",
   "execution_count": 3,
   "metadata": {},
   "outputs": [],
   "source": [
    "try:\n",
    "  session.execute(\"\"\"\n",
    "    CREATE KEYSPACE IF NOT EXISTS cart_esi\n",
    "    WITH REPLICATION = \n",
    "    { 'class' : 'SimpleStrategy', 'replication_factor' : 1 }\"\"\"\n",
    "  )\n",
    "except Exception as e:\n",
    "  print(e)\n"
   ]
  },
  {
   "cell_type": "markdown",
   "metadata": {},
   "source": [
    "### connecter à votre Keyspace  cart_esi \n"
   ]
  },
  {
   "cell_type": "code",
   "execution_count": 4,
   "metadata": {},
   "outputs": [],
   "source": [
    "try:\n",
    "    session.set_keyspace('cart_esi')\n",
    "except Exception as e:\n",
    "    print(e)"
   ]
  },
  {
   "cell_type": "markdown",
   "metadata": {},
   "source": [
    "### Supposons qu'on a une plateforme e-commerce dont le   modèle RELATIONNEL est décrit comme suit:\n",
    "\n",
    "<table><tr>\n",
    "    <td><img src=\"image/E-R_model.png\" width=\"500\" height=\"500\"></td>\n",
    "      </tr></table>"
   ]
  },
  {
   "cell_type": "markdown",
   "metadata": {},
   "source": [
    "### imaginons  que nous souhaitons analyser ces données à  travers 4 requêtes analytiques:\n",
    "* `Query1= retourner les informations d’un panier (cart_id, state) de chaque utilisateur (user_id). Afficher également l’email de l’utilisateur.`\n",
    "\n",
    "* `Query2= retourner pour chaque utilisateur toutes les informations de ses paniers ainsi que leurs contenus (les items ajoutés avec leurs quantités). Ordonner le résultat par state(asc) et date de création(asc).`\n",
    "\n",
    "*  `Query3= retourner pour chaque panier sa date de création, son total et les sous-totaux par item.`"
   ]
  },
  {
   "cell_type": "markdown",
   "metadata": {},
   "source": [
    "#### Créer les trois tables qui correspondent aux requêtes précédentes, en indiquant pour chacune:\n",
    "* Primary Key\n",
    "* Partition Key\n",
    "* Clustering Column"
   ]
  },
  {
   "cell_type": "code",
   "execution_count": 5,
   "metadata": {},
   "outputs": [],
   "source": [
    "try:\n",
    "    \n",
    "    ### Create the table that corresponds to the Query1\n",
    "    query1 = \"CREATE TABLE IF NOT EXISTS user_cart (user_id int, email varchar, cart_id int, state int, PRIMARY KEY (user_id, cart_id));\"\n",
    "    \n",
    "    session.execute(query1)\n",
    "except Exception as e:\n",
    "        print(e)"
   ]
  },
  {
   "cell_type": "code",
   "execution_count": 6,
   "metadata": {},
   "outputs": [],
   "source": [
    "try:\n",
    "    \n",
    "    ### Create the table that corresponds to the Query2\n",
    "    query2 = \"CREATE TABLE IF NOT EXISTS user_cart_items (user_id int, state int, created_at timestamp, cart_id int, item_id int, item_name varchar, quantity int, PRIMARY KEY (user_id, state, created_at, cart_id, item_id)) WITH CLUSTERING ORDER BY (state ASC, created_at ASC);\"\n",
    "    \n",
    "    session.execute(query2)\n",
    "except Exception as e:\n",
    "        print(e)"
   ]
  },
  {
   "cell_type": "code",
   "execution_count": 7,
   "metadata": {},
   "outputs": [],
   "source": [
    "try:\n",
    "    \n",
    "    ### Create the table that corresponds to the Query3\n",
    "    query3= \"CREATE TABLE cart_totals (cart_id int, created_at timestamp, item_id int, item_name varchar, quantity int, subtotal float, total float, PRIMARY KEY (cart_id, item_id));\"\n",
    "   \n",
    "    session.execute(query3)\n",
    "except Exception as e:\n",
    "        print(e)"
   ]
  },
  {
   "cell_type": "markdown",
   "metadata": {},
   "source": [
    "### Une fois vous créez les différentes tables, essayez de les peupler.\n",
    "#### * deux utilisateurs\n",
    "####  * cinq paniers, trois pour le premier User et deux pour le deuxième\n",
    "####  * entre 1 et 3 items par panier \n",
    "\n"
   ]
  },
  {
   "cell_type": "markdown",
   "metadata": {},
   "source": [
    "### Insertion des données dans Table1"
   ]
  },
  {
   "cell_type": "code",
   "execution_count": 8,
   "metadata": {},
   "outputs": [],
   "source": [
    "query = \"INSERT INTO user_cart (user_id, email, cart_id, state) \"\n",
    "query = query + \" VALUES (%s, %s, %s, %s)\"\n",
    "\n",
    "try:\n",
    "    session.execute(query, (1, 'user1@example.com', 101, 1))\n",
    "    session.execute(query, (1, 'user1@example.com', 102, 2))\n",
    "    session.execute(query, (1, 'user1@example.com', 103, 1))\n",
    "\n",
    "    session.execute(query, (2, 'user2@example.com', 201, 2))\n",
    "    session.execute(query, (2, 'user2@example.com', 202, 1))\n",
    "    \n",
    "except Exception as e:\n",
    "        print(e)  \n"
   ]
  },
  {
   "cell_type": "markdown",
   "metadata": {},
   "source": [
    "### Insertion des données dans Table2"
   ]
  },
  {
   "cell_type": "code",
   "execution_count": 9,
   "metadata": {},
   "outputs": [],
   "source": [
    "query = \"INSERT INTO user_cart_items (user_id, state, created_at, cart_id, item_id, item_name, quantity) \"\n",
    "query = query + \" VALUES (%s, %s, %s, %s, %s, %s, %s)\"\n",
    "\n",
    "try:\n",
    "    # user1 (cart id 101)\n",
    "    session.execute(query, (1, 1, '2024-12-09 10:00:00', 101, 1, 'Item A', 2))\n",
    "    session.execute(query, (1, 1, '2024-12-09 10:00:00', 101, 2, 'Item B', 1))\n",
    "\n",
    "    # user1 (cart id 102)\n",
    "    session.execute(query, (1, 2, '2024-12-09 10:00:00', 102, 3, 'Item C', 3))\n",
    "\n",
    "    # user1 (cart id 103)\n",
    "    session.execute(query, (1, 1, '2024-12-09 10:00:00', 103, 4, 'Item D', 2))\n",
    "\n",
    "    # user2 (cart id 201)\n",
    "    session.execute(query, (2, 2, '2024-12-09 10:00:00', 201, 5, 'Item E', 1))\n",
    "    session.execute(query, (2, 2, '2024-12-09 10:00:00', 201, 6, 'Item F', 2))\n",
    "\n",
    "    #  user2 (cart id 202)\n",
    "    session.execute(query, (2, 1, '2024-12-09 10:00:00', 202, 7, 'Item G', 3))\n",
    "    \n",
    "except Exception as e:\n",
    "        print(e)  "
   ]
  },
  {
   "cell_type": "markdown",
   "metadata": {},
   "source": [
    "### Insertion des données dans Table3"
   ]
  },
  {
   "cell_type": "code",
   "execution_count": 10,
   "metadata": {},
   "outputs": [],
   "source": [
    "query = \"INSERT INTO cart_totals (cart_id, created_at, item_id, item_name, quantity, subtotal, total)  \"\n",
    "query = query + \" VALUES (%s, %s, %s, %s, %s, %s, %s)\"\n",
    "\n",
    "try:\n",
    "    # first cart (cart_id 101) for user1\n",
    "    session.execute(query, (101, '2024-12-09 10:00:00', 1, 'Item A', 2, 20.0, 50.0))\n",
    "    session.execute(query, (101, '2024-12-09 10:00:00', 2, 'Item B', 1, 15.0, 50.0))\n",
    "\n",
    "    # second cart (cart_id 102) of user1\n",
    "    session.execute(query, (102, '2024-12-09 11:00:00', 3, 'Item C', 3, 30.0, 60.0))\n",
    "\n",
    "    # third cart (cart_id 103) of user1\n",
    "    session.execute(query, (103, '2024-12-09 12:00:00', 4, 'Item D', 2, 25.0, 50.0))\n",
    "\n",
    "    # first cart (cart_id 201) of user2\n",
    "    session.execute(query, (201, '2024-12-09 13:00:00', 5, 'Item E', 1, 20.0, 40.0))\n",
    "    session.execute(query, (201, '2024-12-09 13:00:00', 6, 'Item F', 2, 30.0, 40.0))\n",
    "\n",
    "    # second cart (cart_id 202) of user2\n",
    "    session.execute(query, (202, '2024-12-09 14:00:00', 7, 'Item G', 3, 45.0, 50.0))\n",
    "    \n",
    "except Exception as e:\n",
    "        print(e)  "
   ]
  },
  {
   "cell_type": "markdown",
   "metadata": {},
   "source": [
    "### Valider votre modèle en exécutant les requêtes suivantes\n",
    "\n",
    "* Retourner les paniers de l'utilisateur N°1\"\n",
    "\n",
    "* Retourner le contenu des paniers \"saved\" de l'utilisateur N°1\n",
    "\n",
    "* retourner le total et les soustotaux du panier N°3"
   ]
  },
  {
   "cell_type": "code",
   "execution_count": 11,
   "metadata": {
    "scrolled": true
   },
   "outputs": [
    {
     "name": "stdout",
     "output_type": "stream",
     "text": [
      "Row(user_id=1, cart_id=101, email='user1@example.com', state=1)\n",
      "Row(user_id=1, cart_id=102, email='user1@example.com', state=2)\n",
      "Row(user_id=1, cart_id=103, email='user1@example.com', state=1)\n"
     ]
    }
   ],
   "source": [
    "query = \"SELECT * FROM user_cart WHERE user_id = 1;\"\n",
    "\n",
    "try:\n",
    "    rows = session.execute(query)\n",
    "    for row in rows:\n",
    "          print (row)\n",
    "except Exception as e:\n",
    "        print(e)       "
   ]
  },
  {
   "cell_type": "code",
   "execution_count": 12,
   "metadata": {
    "scrolled": true
   },
   "outputs": [
    {
     "name": "stdout",
     "output_type": "stream",
     "text": [
      "Row(user_id=1, state=1, created_at=datetime.datetime(2024, 12, 9, 10, 0), cart_id=101, item_id=1, item_name='Item A', quantity=2)\n",
      "Row(user_id=1, state=1, created_at=datetime.datetime(2024, 12, 9, 10, 0), cart_id=101, item_id=2, item_name='Item B', quantity=1)\n",
      "Row(user_id=1, state=1, created_at=datetime.datetime(2024, 12, 9, 10, 0), cart_id=103, item_id=4, item_name='Item D', quantity=2)\n"
     ]
    }
   ],
   "source": [
    "query = \"SELECT * FROM user_cart_items WHERE user_id = 1 AND state = 1;\"\n",
    "\n",
    "try:\n",
    "    rows = session.execute(query)\n",
    "    for row in rows:\n",
    "          print (row)\n",
    "except Exception as e:\n",
    "        print(e)    "
   ]
  },
  {
   "cell_type": "code",
   "execution_count": 13,
   "metadata": {
    "scrolled": true
   },
   "outputs": [
    {
     "name": "stdout",
     "output_type": "stream",
     "text": [
      "Row(total=50.0, item_id=4, item_name='Item D', quantity=2, subtotal=25.0)\n"
     ]
    }
   ],
   "source": [
    "query = \"SELECT total, item_id, item_name, quantity, subtotal FROM cart_totals WHERE cart_id = 103;\"\n",
    "\n",
    "try:\n",
    "    rows = session.execute(query)\n",
    "    for row in rows:\n",
    "          print (row)\n",
    "except Exception as e:\n",
    "        print(e)         "
   ]
  },
  {
   "cell_type": "markdown",
   "metadata": {},
   "source": [
    "### Essayons d'autres requêtes \n",
    "\n",
    "* `Retourner le contenu des paniers créés  aprés le 01-12-2024 par l'utilisateur N°1` "
   ]
  },
  {
   "cell_type": "code",
   "execution_count": 15,
   "metadata": {},
   "outputs": [
    {
     "name": "stdout",
     "output_type": "stream",
     "text": [
      "Row(user_id=1, state=1, created_at=datetime.datetime(2024, 12, 9, 10, 0), cart_id=101, item_id=1, item_name='Item A', quantity=2)\n",
      "Row(user_id=1, state=1, created_at=datetime.datetime(2024, 12, 9, 10, 0), cart_id=101, item_id=2, item_name='Item B', quantity=1)\n",
      "Row(user_id=1, state=1, created_at=datetime.datetime(2024, 12, 9, 10, 0), cart_id=103, item_id=4, item_name='Item D', quantity=2)\n",
      "Row(user_id=1, state=2, created_at=datetime.datetime(2024, 12, 9, 10, 0), cart_id=102, item_id=3, item_name='Item C', quantity=3)\n"
     ]
    }
   ],
   "source": [
    "query = \"SELECT * FROM user_cart_items WHERE user_id = 1 AND created_at > '2024-12-01' ALLOW FILTERING;\"\n",
    "\n",
    "try:\n",
    "    rows = session.execute(query)\n",
    "    for row in rows:\n",
    "          print (row)\n",
    "except Exception as e:\n",
    "        print(e)      "
   ]
  },
  {
   "cell_type": "markdown",
   "metadata": {},
   "source": [
    "### Proposer une solution pour optimiser cette requête"
   ]
  },
  {
   "cell_type": "code",
   "execution_count": 17,
   "metadata": {},
   "outputs": [],
   "source": [
    "from datetime import datetime\n",
    "### make your solution \n",
    "## table creation\n",
    "### Create the table that corresponds to the Query4\n",
    "query2 = \"CREATE TABLE IF NOT EXISTS user_cart_items_2 (user_id int, cart_id int, state int, created_at timestamp, PRIMARY KEY (user_id, created_at, cart_id));\"\n",
    "\n",
    "   \n",
    "session.execute(query2) \n",
    "\n",
    "## insert data\n",
    "query = \"INSERT INTO user_cart_items_2 (user_id, cart_id, state, created_at)\"\n",
    "query = query + \" VALUES (%s, %s, %s, %s)\"\n",
    "\n",
    "data = [\n",
    "    (1, 101, 1, datetime(2024, 12, 1, 10, 30)),  \n",
    "    (1, 102, 1, datetime(2024, 12, 2, 15, 0)),   \n",
    "    (2, 201, 0, datetime(2024, 12, 3, 11, 45)),  \n",
    "    (2, 202, 1, datetime(2024, 12, 4, 9, 30))    \n",
    "]\n",
    "\n",
    "try:\n",
    "    for record in data:\n",
    "        session.execute(query, record)\n",
    "   \n",
    "  \n",
    "except Exception as e :\n",
    "        print(e)   "
   ]
  },
  {
   "cell_type": "code",
   "execution_count": 19,
   "metadata": {},
   "outputs": [
    {
     "name": "stdout",
     "output_type": "stream",
     "text": [
      "Row(user_id=1, created_at=datetime.datetime(2024, 12, 1, 10, 30), cart_id=101, state=1)\n",
      "Row(user_id=1, created_at=datetime.datetime(2024, 12, 2, 15, 0), cart_id=102, state=1)\n"
     ]
    }
   ],
   "source": [
    "# query4\n",
    "query = \"SELECT * FROM user_cart_items_2 WHERE user_id = 1 AND created_at > '2024-12-01';\"\n",
    "\n",
    "\n",
    "try:\n",
    "    rows = session.execute(query)\n",
    "    for row in rows:\n",
    "          print (row)\n",
    "except Exception as e:\n",
    "        print(e)  "
   ]
  },
  {
   "cell_type": "markdown",
   "metadata": {},
   "source": [
    "###  drop  tables. "
   ]
  },
  {
   "cell_type": "markdown",
   "metadata": {},
   "source": [
    "### close the session and cluster connection"
   ]
  },
  {
   "cell_type": "code",
   "execution_count": null,
   "metadata": {},
   "outputs": [],
   "source": [
    "session.shutdown()\n",
    "cluster.shutdown()"
   ]
  },
  {
   "cell_type": "code",
   "execution_count": null,
   "metadata": {},
   "outputs": [],
   "source": []
  }
 ],
 "metadata": {
  "kernelspec": {
   "display_name": "base",
   "language": "python",
   "name": "python3"
  },
  "language_info": {
   "codemirror_mode": {
    "name": "ipython",
    "version": 3
   },
   "file_extension": ".py",
   "mimetype": "text/x-python",
   "name": "python",
   "nbconvert_exporter": "python",
   "pygments_lexer": "ipython3",
   "version": "3.12.4"
  }
 },
 "nbformat": 4,
 "nbformat_minor": 2
}
